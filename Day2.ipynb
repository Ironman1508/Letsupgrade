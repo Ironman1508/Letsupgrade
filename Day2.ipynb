{
  "nbformat": 4,
  "nbformat_minor": 0,
  "metadata": {
    "colab": {
      "name": "Day2.ipynb",
      "provenance": []
    },
    "kernelspec": {
      "name": "python3",
      "display_name": "Python 3"
    }
  },
  "cells": [
    {
      "cell_type": "code",
      "metadata": {
        "colab": {
          "base_uri": "https://localhost:8080/"
        },
        "id": "XtBVQisRmHxP",
        "outputId": "52673fa3-ce86-4c0d-9b7b-449d6c295a6f"
      },
      "source": [
        "#Five functions of string\r\n",
        "\r\n",
        "#Function No.1\r\n",
        "lower_case='aravind'\r\n",
        "Upper_case=name.upper()\r\n",
        "print(Name)\r\n",
        "\r\n",
        "#Function No.2\r\n",
        "name='aravind'\r\n",
        "value=name.count('a')\r\n",
        "print('Number of times letter a is present in the name is', value)\r\n",
        "\r\n",
        "#Function No.3\r\n",
        "words=('Let','upgrade')\r\n",
        "brand=('s'.join(words))\r\n",
        "print(brand)\r\n",
        "\r\n",
        "#Function No.4\r\n",
        "colour='I like pink colour'\r\n",
        "myfavourite=colour.replace('pink','Blue & Red')\r\n",
        "print(myfavourite)\r\n",
        "\r\n",
        "#Function No.5\r\n",
        "language='I love python'\r\n",
        "sentence=language.endswith('Java')\r\n",
        "print(sentence)"
      ],
      "execution_count": null,
      "outputs": [
        {
          "output_type": "stream",
          "text": [
            "ARAVIND\n",
            "Number of times letter a is present in the name is 2\n",
            "Letsupgrade\n",
            "I like Blue & Red colour\n",
            "False\n"
          ],
          "name": "stdout"
        }
      ]
    },
    {
      "cell_type": "code",
      "metadata": {
        "colab": {
          "base_uri": "https://localhost:8080/"
        },
        "id": "-SGG9rqs9bjM",
        "outputId": "c5ef0e35-6bbc-4ecc-f1c8-024ff670f63d"
      },
      "source": [
        "#Five functions of list\r\n",
        "\r\n",
        "#Function No.1\r\n",
        "colour=['Red','Blue','Black','Green','White']\r\n",
        "colour.append('orange')\r\n",
        "print(colour)\r\n",
        "\r\n",
        "#Function No.2\r\n",
        "number=[2,5,2,9,79,5,9,461,9,1,23,5,8,3,6,5,6,5,5,5,]\r\n",
        "count=number.count(9)\r\n",
        "print(count)\r\n",
        "\r\n",
        "#Function No.3\r\n",
        "number=[2,5,2,9,79,5,9,461,9,1,23,5,8,3,6,5,6,5,5,5,]\r\n",
        "number.remove(5)\r\n",
        "print(number)\r\n",
        "\r\n",
        "#Function No.4\r\n",
        "number=[1,3,4,5]\r\n",
        "number.insert(2,1)\r\n",
        "print(number)\r\n",
        "\r\n",
        "#Function No.5\r\n",
        "colour=['Red','Blue','Black','Green','White']\r\n",
        "colour.pop(1)\r\n",
        "print(colour)"
      ],
      "execution_count": null,
      "outputs": [
        {
          "output_type": "stream",
          "text": [
            "['Red', 'Blue', 'Black', 'Green', 'White', 'orange']\n",
            "3\n",
            "[2, 2, 9, 79, 5, 9, 461, 9, 1, 23, 5, 8, 3, 6, 5, 6, 5, 5, 5]\n",
            "[1, 3, 1, 4, 5]\n",
            "['Red', 'Black', 'Green', 'White']\n"
          ],
          "name": "stdout"
        }
      ]
    },
    {
      "cell_type": "code",
      "metadata": {
        "colab": {
          "base_uri": "https://localhost:8080/"
        },
        "id": "bpE15LmfD46U",
        "outputId": "f23c8297-1efc-4576-c988-d66e2341849c"
      },
      "source": [
        "#Five functions of Dictionary\r\n",
        "\r\n",
        "#Function No.1\r\n",
        "car={1:'bmw',2:'tata'}\r\n",
        "car.clear()\r\n",
        "print(car)\r\n",
        "\r\n",
        "#Function No.2\r\n",
        "car={1:'bmw',2:'tata'}\r\n",
        "find=car.get(2)\r\n",
        "print(find)\r\n",
        "\r\n",
        "#Function No.3\r\n",
        "car={1:'bmw',2:'tata'}\r\n",
        "remove=car.pop(1)\r\n",
        "print(remove)\r\n",
        "\r\n",
        "#Function No.4\r\n",
        "car={1:'bmw',2:'tata'}\r\n",
        "print(car.items())\r\n",
        "\r\n",
        "#Function No.5\r\n",
        "car={1:'bmw',2:'tata'}\r\n",
        "car.update({3:'benz'})\r\n",
        "print(car)"
      ],
      "execution_count": null,
      "outputs": [
        {
          "output_type": "stream",
          "text": [
            "{}\n",
            "tata\n",
            "bmw\n",
            "dict_items([(1, 'bmw'), (2, 'tata')])\n",
            "{1: 'bmw', 2: 'tata', 3: 'benz'}\n"
          ],
          "name": "stdout"
        }
      ]
    }
  ]
}