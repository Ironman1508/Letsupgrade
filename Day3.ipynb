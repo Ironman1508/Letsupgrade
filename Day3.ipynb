{
  "nbformat": 4,
  "nbformat_minor": 0,
  "metadata": {
    "colab": {
      "name": "Day3.ipynb",
      "provenance": [],
      "collapsed_sections": []
    },
    "kernelspec": {
      "name": "python3",
      "display_name": "Python 3"
    }
  },
  "cells": [
    {
      "cell_type": "code",
      "metadata": {
        "id": "V3wF6B5fJeKo"
      },
      "source": [
        "#Question 1\r\n",
        "\r\n",
        "subject1=22\r\n",
        "subject2=80\r\n",
        "subject3=95\r\n",
        "\r\n",
        "if subject1>30:\r\n",
        "  print('passed in subject1')\r\n",
        "elif 30>subject1<50:\r\n",
        "  print('Just passed in subject2')\r\n",
        "else:\r\n",
        "  print('superb')\r\n",
        "\r\n",
        "\r\n",
        "#Question 2\r\n",
        "for num in range(0,1001):  \r\n",
        "   if num > 1:  \r\n",
        "       for i in range(2,num):  \r\n",
        "           if (num % i) == 0:  \r\n",
        "               break  \r\n",
        "       else:  \r\n",
        "           print(num)\r\n",
        "\r\n"
      ],
      "execution_count": null,
      "outputs": []
    },
    {
      "cell_type": "code",
      "metadata": {
        "id": "AeaBBKg1ODgS"
      },
      "source": [
        "#Question 3\r\n",
        "for i in range(1,13):\r\n",
        "  for j in range(1,11):\r\n",
        "     print(i, 'x', j, '=', i*j)"
      ],
      "execution_count": null,
      "outputs": []
    },
    {
      "cell_type": "code",
      "metadata": {
        "colab": {
          "base_uri": "https://localhost:8080/"
        },
        "id": "GbhLegjYScDr",
        "outputId": "2880707c-16ce-415b-c9a5-ca0d1bf93d8f"
      },
      "source": [
        "#Question 4\r\n",
        "import sympy\r\n",
        "x = int(input(\"Enter the number:\"))\r\n",
        "count = 0\r\n",
        "n=3\r\n",
        "while count < x:\r\n",
        "  while n>2:\r\n",
        "    result=sympy.isprime(n)\r\n",
        "    if result == 1:\r\n",
        "      print(n)\r\n",
        "      count=count+1\r\n",
        "    if count < x:\r\n",
        "      n=n+1\r\n",
        "    else:\r\n",
        "      break\r\n",
        "    "
      ],
      "execution_count": 84,
      "outputs": [
        {
          "output_type": "stream",
          "text": [
            "Enter the number:1\n",
            "3\n"
          ],
          "name": "stdout"
        }
      ]
    }
  ]
}